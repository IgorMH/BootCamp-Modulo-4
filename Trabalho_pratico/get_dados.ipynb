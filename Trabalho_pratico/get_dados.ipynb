{
 "cells": [
  {
   "cell_type": "markdown",
   "metadata": {},
   "source": [
    "# Extração dos dados Enem 2020"
   ]
  },
  {
   "cell_type": "code",
   "execution_count": 1,
   "metadata": {},
   "outputs": [],
   "source": [
    "import pandas as pd\n",
    "import numpy as np\n",
    "import zipfile\n",
    "import requests\n",
    "from io import BytesIO\n",
    "import os"
   ]
  },
  {
   "cell_type": "code",
   "execution_count": 2,
   "metadata": {},
   "outputs": [],
   "source": [
    "#Cria um diretorio para armazenar os dados do enem\n",
    "os.makedirs('./enem2020', exist_ok=True)"
   ]
  },
  {
   "cell_type": "code",
   "execution_count": 3,
   "metadata": {},
   "outputs": [
    {
     "name": "stderr",
     "output_type": "stream",
     "text": [
      "c:\\Users\\Igor\\AppData\\Local\\Programs\\Python\\Python38\\lib\\site-packages\\urllib3\\connectionpool.py:1045: InsecureRequestWarning: Unverified HTTPS request is being made to host 'download.inep.gov.br'. Adding certificate verification is strongly advised. See: https://urllib3.readthedocs.io/en/1.26.x/advanced-usage.html#ssl-warnings\n",
      "  warnings.warn(\n"
     ]
    }
   ],
   "source": [
    "#Define a url para requisição\n",
    "url = 'https://download.inep.gov.br/microdados/microdados_enem_2020.zip'\n",
    "\n",
    "#Download do conteudo\n",
    "filesbytes = BytesIO(\n",
    "    requests.get(url, verify=False).content\n",
    ")\n",
    "\n",
    "#Extrai o zipfile\n",
    "myzip = zipfile.ZipFile(filesbytes)\n",
    "myzip.extractall('./enem2020')"
   ]
  },
  {
   "cell_type": "code",
   "execution_count": 2,
   "metadata": {},
   "outputs": [],
   "source": [
    "#Carrega os Dados e filtra somente os alunos que estudaram numa escola de MG\n",
    "iter_cvs = pd.read_csv('./enem2020/DADOS/MICRODADOS_ENEM_2020.csv', delimiter=';', encoding='ISO-8859-1', iterator=True, chunksize=1000)\n",
    "enem = pd.concat([chunk[chunk['SG_UF_ESC'] == 'MG'] for chunk in iter_cvs])"
   ]
  },
  {
   "cell_type": "code",
   "execution_count": 4,
   "metadata": {},
   "outputs": [],
   "source": [
    "#Salva os alunos de MG em um novo CSV\n",
    "enem.to_csv('./enem2020/DADOS/ENEM_2020_MG2.csv')"
   ]
  }
 ],
 "metadata": {
  "kernelspec": {
   "display_name": "Python 3.8.10 64-bit",
   "language": "python",
   "name": "python3"
  },
  "language_info": {
   "codemirror_mode": {
    "name": "ipython",
    "version": 3
   },
   "file_extension": ".py",
   "mimetype": "text/x-python",
   "name": "python",
   "nbconvert_exporter": "python",
   "pygments_lexer": "ipython3",
   "version": "3.8.10"
  },
  "orig_nbformat": 4,
  "vscode": {
   "interpreter": {
    "hash": "b22fbcf701038fbd69ab999f6f6bc51b7229ffe45de2b01a8102f2ac05908b4a"
   }
  }
 },
 "nbformat": 4,
 "nbformat_minor": 2
}
