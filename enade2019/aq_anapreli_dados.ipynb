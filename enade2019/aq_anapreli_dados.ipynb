{
 "cells": [
  {
   "cell_type": "markdown",
   "metadata": {},
   "source": [
    "# Extração dos dados do ENADE"
   ]
  },
  {
   "cell_type": "code",
   "execution_count": 1,
   "metadata": {},
   "outputs": [],
   "source": [
    "import pandas as pd\n",
    "import numpy as np\n",
    "import zipfile\n",
    "import requests\n",
    "from io import BytesIO\n",
    "import os"
   ]
  },
  {
   "cell_type": "code",
   "execution_count": 2,
   "metadata": {},
   "outputs": [],
   "source": [
    "#Cria um diretorio para armazenar os dados do enade\n",
    "os.makedirs('./enade2019', exist_ok=True)"
   ]
  },
  {
   "cell_type": "code",
   "execution_count": 2,
   "metadata": {},
   "outputs": [
    {
     "name": "stderr",
     "output_type": "stream",
     "text": [
      "c:\\Users\\Igor\\AppData\\Local\\Programs\\Python\\Python38\\lib\\site-packages\\urllib3\\connectionpool.py:1045: InsecureRequestWarning: Unverified HTTPS request is being made to host 'download.inep.gov.br'. Adding certificate verification is strongly advised. See: https://urllib3.readthedocs.io/en/1.26.x/advanced-usage.html#ssl-warnings\n",
      "  warnings.warn(\n"
     ]
    }
   ],
   "source": [
    "#Define a url para requisição\n",
    "url = 'https://download.inep.gov.br/microdados/microdados_enade_2019_LGPD.zip'\n",
    "\n",
    "#Download do conteudo\n",
    "filesbytes = BytesIO(\n",
    "    requests.get(url, verify=False).content\n",
    ")\n",
    "\n",
    "#Extrai o zipfile\n",
    "myzip = zipfile.ZipFile(filesbytes)\n",
    "myzip.extractall('./enade2019')"
   ]
  },
  {
   "cell_type": "markdown",
   "metadata": {},
   "source": [
    "## Verificando os dados baixados"
   ]
  },
  {
   "cell_type": "code",
   "execution_count": 7,
   "metadata": {},
   "outputs": [
    {
     "name": "stderr",
     "output_type": "stream",
     "text": [
      "C:\\Users\\Igor\\AppData\\Local\\Temp\\ipykernel_6944\\1122414473.py:3: DtypeWarning: Columns (12,14,15) have mixed types. Specify dtype option on import or set low_memory=False.\n",
      "  list_dfs = [pd.read_csv(f'./microdados_Enade_2019_LGPD/2.DADOS/{file}',\n"
     ]
    }
   ],
   "source": [
    "#Unindo os dados em um arquivo só\n",
    "file_names = os.listdir('./microdados_Enade_2019_LGPD/2.DADOS')\n",
    "list_dfs = [pd.read_csv(f'./microdados_Enade_2019_LGPD/2.DADOS/{file}',\n",
    "                        sep=';', index_col='NU_ANO') for file in file_names]\n",
    "\n",
    "enade = pd.concat(list_dfs, axis=1)"
   ]
  },
  {
   "cell_type": "code",
   "execution_count": 9,
   "metadata": {},
   "outputs": [],
   "source": [
    "#Salvando o arquivo unico em um novo CSV\n",
    "enade.to_csv('./microdados_Enade_2019_LGPD/2.DADOS/Enade_2019.csv')"
   ]
  },
  {
   "cell_type": "code",
   "execution_count": 2,
   "metadata": {},
   "outputs": [
    {
     "name": "stderr",
     "output_type": "stream",
     "text": [
      "C:\\Users\\Igor\\AppData\\Local\\Temp\\ipykernel_6484\\256947895.py:1: DtypeWarning: Columns (11,13,15,17,19,21,23,25,27,29,35,37,41,43,45,47,49,51,53,65,67,68,106,108,110,159,161,163) have mixed types. Specify dtype option on import or set low_memory=False.\n",
      "  enade = pd.read_csv('./microdados_Enade_2019_LGPD/2.DADOS/Enade_2020.csv')\n"
     ]
    }
   ],
   "source": [
    "enade = pd.read_csv('./microdados_Enade_2019_LGPD/2.DADOS/Enade_2019.csv')"
   ]
  },
  {
   "cell_type": "code",
   "execution_count": 6,
   "metadata": {},
   "outputs": [
    {
     "data": {
      "text/plain": [
       "F    53.749683\n",
       "M    46.224967\n",
       "Name: TP_SEXO, dtype: float64"
      ]
     },
     "execution_count": 6,
     "metadata": {},
     "output_type": "execute_result"
    }
   ],
   "source": [
    "#Tabela cruzada\n",
    "#Contando homens e mulheres\n",
    "(enade.TP_SEXO.value_counts() / enade.shape[0]) * 100"
   ]
  },
  {
   "cell_type": "code",
   "execution_count": 13,
   "metadata": {},
   "outputs": [
    {
     "data": {
      "text/plain": [
       "count    32061.000000\n",
       "mean        45.589233\n",
       "std         15.097418\n",
       "min          0.000000\n",
       "25%         35.500000\n",
       "50%         46.100000\n",
       "75%         56.300000\n",
       "max         85.900000\n",
       "Name: NT_GER, dtype: float64"
      ]
     },
     "execution_count": 13,
     "metadata": {},
     "output_type": "execute_result"
    }
   ],
   "source": [
    "#Estatisticas descritivas da Nota Geral dos alunos da\n",
    "#região Centro-Oeste\n",
    "enade.loc[\n",
    "    enade.CO_REGIAO_CURSO == 5\n",
    "].NT_GER.describe()"
   ]
  },
  {
   "cell_type": "code",
   "execution_count": 19,
   "metadata": {},
   "outputs": [
    {
     "data": {
      "text/plain": [
       "(428910, 164)"
      ]
     },
     "execution_count": 19,
     "metadata": {},
     "output_type": "execute_result"
    }
   ],
   "source": [
    "#Filtrando notas dos alunos entre 20 e 50 anos\n",
    "enade.loc[\n",
    "    (enade.NU_IDADE >= 20) &\n",
    "    (enade.NU_IDADE <= 50)\n",
    "].shape"
   ]
  },
  {
   "cell_type": "code",
   "execution_count": 7,
   "metadata": {},
   "outputs": [
    {
     "data": {
      "text/html": [
       "<div>\n",
       "<style scoped>\n",
       "    .dataframe tbody tr th:only-of-type {\n",
       "        vertical-align: middle;\n",
       "    }\n",
       "\n",
       "    .dataframe tbody tr th {\n",
       "        vertical-align: top;\n",
       "    }\n",
       "\n",
       "    .dataframe thead th {\n",
       "        text-align: right;\n",
       "    }\n",
       "</style>\n",
       "<table border=\"1\" class=\"dataframe\">\n",
       "  <thead>\n",
       "    <tr style=\"text-align: right;\">\n",
       "      <th></th>\n",
       "      <th>NT_GER</th>\n",
       "      <th>NT_FG</th>\n",
       "      <th>NT_CE</th>\n",
       "    </tr>\n",
       "  </thead>\n",
       "  <tbody>\n",
       "    <tr>\n",
       "      <th>count</th>\n",
       "      <td>389735.000000</td>\n",
       "      <td>389735.000000</td>\n",
       "      <td>389735.000000</td>\n",
       "    </tr>\n",
       "    <tr>\n",
       "      <th>mean</th>\n",
       "      <td>44.117045</td>\n",
       "      <td>39.870327</td>\n",
       "      <td>45.515985</td>\n",
       "    </tr>\n",
       "    <tr>\n",
       "      <th>std</th>\n",
       "      <td>14.498942</td>\n",
       "      <td>16.211251</td>\n",
       "      <td>16.603229</td>\n",
       "    </tr>\n",
       "    <tr>\n",
       "      <th>min</th>\n",
       "      <td>0.000000</td>\n",
       "      <td>0.000000</td>\n",
       "      <td>0.000000</td>\n",
       "    </tr>\n",
       "    <tr>\n",
       "      <th>25%</th>\n",
       "      <td>33.300000</td>\n",
       "      <td>28.500000</td>\n",
       "      <td>33.100000</td>\n",
       "    </tr>\n",
       "    <tr>\n",
       "      <th>50%</th>\n",
       "      <td>43.800000</td>\n",
       "      <td>39.300000</td>\n",
       "      <td>45.300000</td>\n",
       "    </tr>\n",
       "    <tr>\n",
       "      <th>75%</th>\n",
       "      <td>54.800000</td>\n",
       "      <td>51.300000</td>\n",
       "      <td>57.800000</td>\n",
       "    </tr>\n",
       "    <tr>\n",
       "      <th>max</th>\n",
       "      <td>93.000000</td>\n",
       "      <td>97.800000</td>\n",
       "      <td>100.000000</td>\n",
       "    </tr>\n",
       "  </tbody>\n",
       "</table>\n",
       "</div>"
      ],
      "text/plain": [
       "              NT_GER          NT_FG          NT_CE\n",
       "count  389735.000000  389735.000000  389735.000000\n",
       "mean       44.117045      39.870327      45.515985\n",
       "std        14.498942      16.211251      16.603229\n",
       "min         0.000000       0.000000       0.000000\n",
       "25%        33.300000      28.500000      33.100000\n",
       "50%        43.800000      39.300000      45.300000\n",
       "75%        54.800000      51.300000      57.800000\n",
       "max        93.000000      97.800000     100.000000"
      ]
     },
     "execution_count": 7,
     "metadata": {},
     "output_type": "execute_result"
    }
   ],
   "source": [
    "#Compara regioes\n",
    "enade[['NT_GER', 'NT_FG', 'NT_CE']].describe()"
   ]
  },
  {
   "cell_type": "code",
   "execution_count": 10,
   "metadata": {},
   "outputs": [
    {
     "data": {
      "text/html": [
       "<div>\n",
       "<style scoped>\n",
       "    .dataframe tbody tr th:only-of-type {\n",
       "        vertical-align: middle;\n",
       "    }\n",
       "\n",
       "    .dataframe tbody tr th {\n",
       "        vertical-align: top;\n",
       "    }\n",
       "\n",
       "    .dataframe thead th {\n",
       "        text-align: right;\n",
       "    }\n",
       "</style>\n",
       "<table border=\"1\" class=\"dataframe\">\n",
       "  <thead>\n",
       "    <tr style=\"text-align: right;\">\n",
       "      <th></th>\n",
       "      <th>NT_GER</th>\n",
       "      <th>NT_FG</th>\n",
       "      <th>NT_CE</th>\n",
       "    </tr>\n",
       "    <tr>\n",
       "      <th>CO_REGIAO_CURSO</th>\n",
       "      <th></th>\n",
       "      <th></th>\n",
       "      <th></th>\n",
       "    </tr>\n",
       "  </thead>\n",
       "  <tbody>\n",
       "    <tr>\n",
       "      <th>1</th>\n",
       "      <td>46.469625</td>\n",
       "      <td>41.334387</td>\n",
       "      <td>48.164777</td>\n",
       "    </tr>\n",
       "    <tr>\n",
       "      <th>2</th>\n",
       "      <td>46.176189</td>\n",
       "      <td>41.353552</td>\n",
       "      <td>47.766882</td>\n",
       "    </tr>\n",
       "    <tr>\n",
       "      <th>3</th>\n",
       "      <td>42.906440</td>\n",
       "      <td>39.029989</td>\n",
       "      <td>44.182044</td>\n",
       "    </tr>\n",
       "    <tr>\n",
       "      <th>4</th>\n",
       "      <td>43.251591</td>\n",
       "      <td>39.325464</td>\n",
       "      <td>44.543550</td>\n",
       "    </tr>\n",
       "    <tr>\n",
       "      <th>5</th>\n",
       "      <td>45.589233</td>\n",
       "      <td>40.783425</td>\n",
       "      <td>47.174807</td>\n",
       "    </tr>\n",
       "  </tbody>\n",
       "</table>\n",
       "</div>"
      ],
      "text/plain": [
       "                    NT_GER      NT_FG      NT_CE\n",
       "CO_REGIAO_CURSO                                 \n",
       "1                46.469625  41.334387  48.164777\n",
       "2                46.176189  41.353552  47.766882\n",
       "3                42.906440  39.029989  44.182044\n",
       "4                43.251591  39.325464  44.543550\n",
       "5                45.589233  40.783425  47.174807"
      ]
     },
     "execution_count": 10,
     "metadata": {},
     "output_type": "execute_result"
    }
   ],
   "source": [
    "enade.groupby('CO_REGIAO_CURSO').agg({\n",
    "    'NT_GER': 'mean',\n",
    "    'NT_FG': 'mean',\n",
    "    'NT_CE': 'mean',\n",
    "})"
   ]
  }
 ],
 "metadata": {
  "kernelspec": {
   "display_name": "Python 3.8.10 64-bit",
   "language": "python",
   "name": "python3"
  },
  "language_info": {
   "codemirror_mode": {
    "name": "ipython",
    "version": 3
   },
   "file_extension": ".py",
   "mimetype": "text/x-python",
   "name": "python",
   "nbconvert_exporter": "python",
   "pygments_lexer": "ipython3",
   "version": "3.8.10"
  },
  "orig_nbformat": 4,
  "vscode": {
   "interpreter": {
    "hash": "b22fbcf701038fbd69ab999f6f6bc51b7229ffe45de2b01a8102f2ac05908b4a"
   }
  }
 },
 "nbformat": 4,
 "nbformat_minor": 2
}
