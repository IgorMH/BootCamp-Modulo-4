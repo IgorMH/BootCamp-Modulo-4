{
 "cells": [
  {
   "cell_type": "code",
   "execution_count": 1,
   "metadata": {},
   "outputs": [],
   "source": [
    "import pandas as pd\n",
    "import numpy as np"
   ]
  },
  {
   "cell_type": "code",
   "execution_count": 2,
   "metadata": {},
   "outputs": [
    {
     "name": "stderr",
     "output_type": "stream",
     "text": [
      "C:\\Users\\Igor\\AppData\\Local\\Temp\\ipykernel_5776\\256947895.py:1: DtypeWarning: Columns (11,13,15,17,19,21,23,25,27,29,35,37,41,43,45,47,49,51,53,65,67,68,106,108,110,159,161,163) have mixed types. Specify dtype option on import or set low_memory=False.\n",
      "  enade = pd.read_csv('./microdados_Enade_2019_LGPD/2.DADOS/Enade_2020.csv')\n"
     ]
    }
   ],
   "source": [
    "enade = pd.read_csv('./microdados_Enade_2019_LGPD/2.DADOS/Enade_2019.csv')"
   ]
  },
  {
   "cell_type": "code",
   "execution_count": 3,
   "metadata": {},
   "outputs": [],
   "source": [
    "#Cria coluna DESC_PUBLICA e coloca valures dependendo se a instituição\n",
    "#é publica ou privada\n",
    "enade['DESC_PUBLICA'] = ''\n",
    "enade.loc[\n",
    "    enade.CO_CATEGAD.isin([4, 5, 7]),\n",
    "    'DESC_PUBLICA'\n",
    "] = 'Privado'"
   ]
  },
  {
   "cell_type": "code",
   "execution_count": 4,
   "metadata": {},
   "outputs": [],
   "source": [
    "enade.loc[\n",
    "    enade.CO_CATEGAD.isin([1, 2, 3]),\n",
    "    'DESC_PUBLICA'\n",
    "] = 'Publica'"
   ]
  },
  {
   "cell_type": "code",
   "execution_count": 5,
   "metadata": {},
   "outputs": [
    {
     "data": {
      "text/plain": [
       "Privado    76.71\n",
       "Publica    23.29\n",
       "Name: DESC_PUBLICA, dtype: float64"
      ]
     },
     "execution_count": 5,
     "metadata": {},
     "output_type": "execute_result"
    }
   ],
   "source": [
    "#Porcentagem de alunos de cada tipo de instituição\n",
    "round((enade.DESC_PUBLICA.value_counts() / enade.shape[0]) * 100, 2)"
   ]
  },
  {
   "cell_type": "code",
   "execution_count": 6,
   "metadata": {},
   "outputs": [],
   "source": [
    "#Transformar a modalidade\n",
    "enade['CO_MODALIDADE'] = enade.CO_MODALIDADE.replace({\n",
    "    0 : 'EAD',\n",
    "    1 : 'Presencial'\n",
    "})"
   ]
  },
  {
   "cell_type": "code",
   "execution_count": 7,
   "metadata": {},
   "outputs": [],
   "source": [
    "#Transformar região\n",
    "enade['CO_REGIAO_CURSO'] = enade.CO_REGIAO_CURSO.replace({\n",
    "    1 : 'Norte',\n",
    "    2 : 'Nordeste',\n",
    "    3 : 'Sudeste',\n",
    "    4 : 'Sul',\n",
    "    5 : 'Centro-Oeste'\n",
    "})"
   ]
  },
  {
   "cell_type": "code",
   "execution_count": 8,
   "metadata": {},
   "outputs": [],
   "source": [
    "#Transformar grupo\n",
    "enade['CO_GRUPO'] = enade.CO_GRUPO.replace({\n",
    "5 : 'MEDICINA VETERINARIA',\n",
    "6 : 'ODONTOLOGIA',\n",
    "12 : 'MEDICINA',\n",
    "17 : 'AGRONOMIA',\n",
    "19 : 'FARMACIA',\n",
    "21 : 'ARQUIT E URB',\n",
    "23 : 'ENFERMAGEM',\n",
    "27 : 'FONOAUDIOLOGIA',\n",
    "28 : 'NUTRIÇAO',\n",
    "36 : 'FISIOTERAPIA',\n",
    "51 : 'ZOOTECNIA',\n",
    "55 : 'BIOMEDICINA',\n",
    "69 : 'TEC. EM RADIOLOGIA',\n",
    "90 : 'TEC. EM AGRONEGOCIOS',\n",
    "91 : 'TEC. EM GESTAO HOSP',\n",
    "92 : 'TEC. EM GESTAO AMBIENTAL',\n",
    "95 : 'TEC. EM ESTET E COSMET',\n",
    "3501 : 'ED. FISICA (BACH)',\n",
    "4003 : 'ENG. DA COMPUTAÇAO',\n",
    "5710 : 'ENG. CIVIL',\n",
    "5806 : 'ENG. ELETRICA',\n",
    "5814 : 'ENG. DE CONTROLE E AUT',\n",
    "5902 : 'ENG. MECANICA',\n",
    "6002 : 'ENG. DE ALIMENTOS',\n",
    "6008 : 'ENG. QUIMICA',\n",
    "6208 : 'ENG. DE PRODUÇAO',\n",
    "6307 : 'ENG. AMBIENTAL',\n",
    "6405 : 'ENG. FLORESTAL',\n",
    "6410 : 'TEC. EM SEG NO TRABALHO'\n",
    "})"
   ]
  },
  {
   "cell_type": "code",
   "execution_count": 9,
   "metadata": {},
   "outputs": [],
   "source": [
    "#Transformar estado\n",
    "enade['CO_UF_CURSO'] = enade.CO_UF_CURSO.replace({\n",
    "11 : 'RO',\n",
    "12 : 'AC',\n",
    "13 : 'AM',\n",
    "14 : 'RR',\n",
    "15 : 'PA',\n",
    "16 : 'AP',\n",
    "17 : 'TO',\n",
    "21 : 'MA',\n",
    "22 : 'PI',\n",
    "23 : 'CE',\n",
    "24 : 'RN',\n",
    "25 : 'PB',\n",
    "26 : 'PE',\n",
    "27 : 'AL',\n",
    "28 : 'SE',\n",
    "29 : 'BA',\n",
    "31 : 'MG',\n",
    "32 : 'ES',\n",
    "33 : 'RJ',\n",
    "35 : 'SP',\n",
    "41 : 'PR',\n",
    "42 : 'SC',\n",
    "43 : 'RS',\n",
    "50 : 'MS',\n",
    "51 : 'MT',\n",
    "52 : 'GO',\n",
    "53 : 'DF'\n",
    "})\n"
   ]
  },
  {
   "cell_type": "code",
   "execution_count": null,
   "metadata": {},
   "outputs": [],
   "source": [
    "#Transformar categoria\n",
    "enade['CO_REGIAO_CURSO'] = enade.CO_REGIAO_CURSO.replace({\n",
    "    1 : 'Norte',\n",
    "    2 : 'Nordeste',\n",
    "    3 : 'Sudeste',\n",
    "    4 : 'Sul',\n",
    "    5 : 'Centro-Oeste'\n",
    "})"
   ]
  },
  {
   "cell_type": "code",
   "execution_count": 12,
   "metadata": {},
   "outputs": [],
   "source": [
    "enade_pre = enade[[\"NU_ANO\", \"DESC_PUBLICA\", \"CO_GRUPO\", \"CO_MODALIDADE\", \"CO_UF_CURSO\", \"CO_REGIAO_CURSO\", \"NU_IDADE\",\n",
    "\"TP_SEXO\", \"NT_GER\", \"NT_FG\", \"NT_CE\"\n",
    "]]\n",
    "\n",
    "enade_pre.to_csv('./microdados_Enade_2019_LGPD/2.DADOS/Enade_2019_preliminar.csv', index=False\n",
    ")"
   ]
  }
 ],
 "metadata": {
  "kernelspec": {
   "display_name": "Python 3.8.10 64-bit",
   "language": "python",
   "name": "python3"
  },
  "language_info": {
   "codemirror_mode": {
    "name": "ipython",
    "version": 3
   },
   "file_extension": ".py",
   "mimetype": "text/x-python",
   "name": "python",
   "nbconvert_exporter": "python",
   "pygments_lexer": "ipython3",
   "version": "3.8.10"
  },
  "orig_nbformat": 4,
  "vscode": {
   "interpreter": {
    "hash": "b22fbcf701038fbd69ab999f6f6bc51b7229ffe45de2b01a8102f2ac05908b4a"
   }
  }
 },
 "nbformat": 4,
 "nbformat_minor": 2
}
